{
 "cells": [
  {
   "cell_type": "code",
   "execution_count": null,
   "metadata": {},
   "outputs": [],
   "source": [
    "import pandas as pd\n",
    "import geopandas as gpd\n",
    "import plotly.express as px\n",
    "import json"
   ]
  },
  {
   "cell_type": "code",
   "execution_count": null,
   "metadata": {},
   "outputs": [],
   "source": [
    "\n",
    "school_districts_gpd = gpd.read_file(\"../data/sd-geo/a0000000c.gdbtable\") \n",
    "school_districts_gpd[\"geometry\"] = school_districts_gpd[\"geometry\"].simplify(tolerance=0.01,preserve_topology=True) \n",
    "# NOTE: this tolerance is in units of degrees of lat/lon, not any distance unit\n",
    "school_districts_gpd.index = school_districts_gpd[\"GEOID\"].tolist()\n",
    "\n",
    "\n",
    "keep_cols = [\"GEOID\",\"NAME\",\"geometry\"]\n",
    "with open(\"geojson-school-districts.json\",\"w\") as fp:\n",
    "    print(school_districts_gpd[keep_cols].to_json(),file=fp)\n",
    "\n",
    "\n",
    "with open(\"geojson-school-districts-mini.json\",\"w\") as fp:\n",
    "    print(school_districts_gpd[keep_cols].sample(500).to_json(),file=fp)"
   ]
  },
  {
   "cell_type": "code",
   "execution_count": null,
   "metadata": {},
   "outputs": [],
   "source": [
    "with open(\"../geojson-counties-fips.json\") as fp:\n",
    "    counties = json.load(fp)\n",
    "\n",
    "with open(\"../geojson-school-districts.json\") as fp:\n",
    "    school_districts = json.load(fp)\n"
   ]
  },
  {
   "cell_type": "code",
   "execution_count": null,
   "metadata": {},
   "outputs": [],
   "source": [
    "\n",
    "df = pd.read_csv(\"../cty-sd-latest-indicators.csv\")\n",
    "df[\"state\"] = df[\"geo_name\"].apply(lambda name: name.split(\", \")[-1])\n",
    "\n",
    "df_cty = df[df.geo_type == 'CTY'].copy(deep=True)\n",
    "df_sd  = df[df.geo_type == 'SD'].copy(deep=True)\n",
    "\n",
    "df_cty[\"fips\"] =  df_cty[\"geo_id\"].apply(lambda id: id[-5:])\n",
    "df_sd[\"district\"] = df_sd[\"geo_id\"].apply(lambda id: id[-7:])"
   ]
  },
  {
   "cell_type": "code",
   "execution_count": null,
   "metadata": {},
   "outputs": [],
   "source": [
    "\n",
    "\n",
    "fig = px.choropleth(\n",
    "    df_cty[[\"fips\",\"pct_limited_english_households\",\"geo_name\"]], geojson=counties, locations='fips', color='pct_limited_english_households',\n",
    "    color_continuous_scale=\"Viridis\",\n",
    "    range_color=(-1, 8),\n",
    "    scope=\"usa\",\n",
    "    labels={'pct_limited_english_households':'households with limited english','geo_name':'county name'}\n",
    ")\n",
    "fig.update_layout(margin={\"r\":0,\"t\":0,\"l\":0,\"b\":0})\n",
    "fig.show()"
   ]
  },
  {
   "cell_type": "code",
   "execution_count": null,
   "metadata": {},
   "outputs": [],
   "source": [
    "\n",
    "\n",
    "states = [\"New York\",\"Vermont\",\"Utah\",\"Colorado\"]\n",
    "fig_sd = px.choropleth(\n",
    "    df_sd[df_sd.state.isin(states)][[\"district\",\"pct_limited_english_households\",\"geo_name\"]], geojson=school_districts, locations='district', color='pct_limited_english_households',\n",
    "    color_continuous_scale=\"Viridis\",\n",
    "    range_color=(-1, 8),\n",
    "    scope=\"usa\",\n",
    "    labels={'pct_limited_english_households':'households with limited english','geo_name':'county name'}\n",
    ")\n",
    "\n",
    "fig_sd.update_layout(margin={\"r\":0,\"t\":0,\"l\":0,\"b\":0})\n",
    "fig_sd.show()\n",
    "\n",
    "# https://gis.stackexchange.com/questions/325766/geopandas-simplify-results-in-gaps-between-polygons\n",
    "# can fix the gaps this way above. although to be honest I don't  get any additional information\n",
    "# from added granularity of the district plot. I wil be sticking with county-level for future plotting"
   ]
  }
 ],
 "metadata": {
  "kernelspec": {
   "display_name": "Python 3",
   "language": "python",
   "name": "python3"
  },
  "language_info": {
   "codemirror_mode": {
    "name": "ipython",
    "version": 3
   },
   "file_extension": ".py",
   "mimetype": "text/x-python",
   "name": "python",
   "nbconvert_exporter": "python",
   "pygments_lexer": "ipython3",
   "version": "3.11.4"
  },
  "orig_nbformat": 4
 },
 "nbformat": 4,
 "nbformat_minor": 2
}
