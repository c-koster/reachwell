{
 "cells": [
  {
   "cell_type": "code",
   "execution_count": null,
   "metadata": {},
   "outputs": [],
   "source": [
    "import pandas as pd\n",
    "import xml.etree.ElementTree as ET\n",
    "\n",
    "# Parse the KML file\n",
    "tree = ET.parse(\"../data/client-data/jesse-kml.xml\")\n",
    "root = tree.getroot()\n",
    "\n",
    "records = []\n",
    "for placemark in root.findall('.//{http://www.opengis.net/kml/2.2}Placemark'):\n",
    "    name = placemark.find('{http://www.opengis.net/kml/2.2}name').text \n",
    "    description = placemark.find('{http://www.opengis.net/kml/2.2}description').text\n",
    "    coordinates = placemark.find('.//{http://www.opengis.net/kml/2.2}coordinates').text \n",
    "\n",
    "\n",
    "    coordinates = coordinates.strip().split(\",\") \n",
    "    # longitude,latitude, _ = coordinates # type:ignore https://dwtkns.com/pointplotter/\n",
    "    records.append({\n",
    "        \"name\": name,\n",
    "        \"long_name\": description.split(\"<br>\")[0][6:], \n",
    "        # some of these shapes are bounding boxes. this would mean the eentity is a county/district, not a school\n",
    "        \"type\": \"SCHOOL\" if len(coordinates) == 3 else \"COUNTY\", \n",
    "        \"longitude\": float(coordinates[0]),\n",
    "        \"latitude\": float(coordinates[1])\n",
    "    })\n"
   ]
  },
  {
   "cell_type": "code",
   "execution_count": null,
   "metadata": {},
   "outputs": [],
   "source": [
    "import geopandas as gpd\n",
    "from shapely.geometry import Point\n",
    "\n",
    "\n",
    "geometry = [Point(r[\"longitude\"], r[\"latitude\"]) for r in records]\n",
    "gdf_reachwell = gpd.GeoDataFrame(records, geometry=geometry, crs='EPSG:4326')\n",
    "# gdf_reachwell = gpd.read_file(\"reachwell_client_list.json\")\n"
   ]
  },
  {
   "cell_type": "code",
   "execution_count": null,
   "metadata": {},
   "outputs": [],
   "source": [
    "\n",
    "gdf_school_districts = gpd.read_file(\"../geojson-school-districts.json\")\n",
    "\n",
    "gdf_combine = gpd.sjoin(\n",
    "    gdf_school_districts, \n",
    "    gdf_reachwell[gdf_reachwell[\"type\"] == \"SCHOOL\"],\n",
    "    how=\"inner\"\n",
    ")\n",
    "# gdf_combine[\"id_right\"].isna().value_counts()\n",
    "# gdf_combine[[\"NAME\",'long_name']].head(20)\n"
   ]
  },
  {
   "cell_type": "code",
   "execution_count": null,
   "metadata": {},
   "outputs": [],
   "source": [
    "# after writing file, lok up and add in the county codes manually\n",
    "gdf_reachwell[gdf_reachwell['type'] == \"COUNTY\"] \n"
   ]
  },
  {
   "cell_type": "code",
   "execution_count": null,
   "metadata": {},
   "outputs": [],
   "source": [
    "pd.DataFrame(\n",
    "    data={\"geo_id\": [\"9700000US{nces_id}\".format(nces_id=nces_id) for nces_id in gdf_combine[\"id_left\"].unique()]}\n",
    ").to_csv(\"reachwell-clients.csv\",index=False)"
   ]
  }
 ],
 "metadata": {
  "kernelspec": {
   "display_name": "Python 3",
   "language": "python",
   "name": "python3"
  },
  "language_info": {
   "codemirror_mode": {
    "name": "ipython",
    "version": 3
   },
   "file_extension": ".py",
   "mimetype": "text/x-python",
   "name": "python",
   "nbconvert_exporter": "python",
   "pygments_lexer": "ipython3",
   "version": "3.11.4"
  },
  "orig_nbformat": 4
 },
 "nbformat": 4,
 "nbformat_minor": 2
}
